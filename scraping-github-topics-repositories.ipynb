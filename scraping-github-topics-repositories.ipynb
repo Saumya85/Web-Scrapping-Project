{
 "cells": [
  {
   "cell_type": "markdown",
   "metadata": {},
   "source": [
    "# Scraping Top Repositories for Topics on Github\n",
    "**TODO**\n",
    "- **Web scraping**-Web scraping is an automatic method to obtain large amounts of data from websites. Most of this data is   unstructured data in an HTML format which is then converted into structured data in a spreadsheet or a database so that it can be used for data analysis\n",
    "- **Github**-GitHub is a code hosting platform for collaboration and version control. GitHub lets you (and others) work together on projects\n",
    "- **project description**-In this project we scrape top repositories for each trending topic on topics page on Github\n",
    "- tools used in project include **Python,Requests,Beautifulsoup,Pandas**.\n"
   ]
  },
  {
   "cell_type": "markdown",
   "metadata": {},
   "source": [
    "# project outline:\n",
    "- we are going to scrape https://github.com/topics\n",
    "- we'll get a list of top 10 topics,for each topic,we'll get topic title,topic page URL and topic description.\n",
    "- For each topic,we'll get top 30 repositories in the topic from the topic page.\n",
    "- For each repository,we'll grab the repo name,username,stars and repo URL.\n",
    "- for each topic we'll create a CSV file in the following format:\n",
    "```\n",
    "  Repo name,Username,Stars,Repo URL\n",
    "  three.js,mrdoob,75000,https://github.com/mrdoob/three.js\n",
    "  libdgx,libdgx,19100,https://github.com/libgdx/libgdx\n",
    "```"
   ]
  },
  {
   "cell_type": "code",
   "execution_count": 14,
   "metadata": {},
   "outputs": [],
   "source": [
    "import jovian"
   ]
  },
  {
   "cell_type": "markdown",
   "metadata": {},
   "source": [
    "## Scrape the list of Topics from Github\n",
    "\n",
    "- use requests to download the topics page https://github.com/topics\n",
    "- use BS4 to parse and extract information\n",
    "- convert to pandas dataframe"
   ]
  },
  {
   "cell_type": "code",
   "execution_count": 15,
   "metadata": {},
   "outputs": [],
   "source": [
    "!pip install requests --upgrade --quiet\n",
    "#install library"
   ]
  },
  {
   "cell_type": "code",
   "execution_count": 16,
   "metadata": {},
   "outputs": [],
   "source": [
    "import requests\n",
    "#import library\n",
    "import os"
   ]
  },
  {
   "cell_type": "code",
   "execution_count": 17,
   "metadata": {},
   "outputs": [],
   "source": [
    "!pip install beautifulsoup4 --upgrade --quiet"
   ]
  },
  {
   "cell_type": "code",
   "execution_count": 18,
   "metadata": {},
   "outputs": [],
   "source": [
    "from bs4 import BeautifulSoup"
   ]
  },
  {
   "cell_type": "code",
   "execution_count": 19,
   "metadata": {},
   "outputs": [],
   "source": [
    "!pip install pandas --quiet"
   ]
  },
  {
   "cell_type": "code",
   "execution_count": 20,
   "metadata": {},
   "outputs": [],
   "source": [
    "import pandas as pd"
   ]
  },
  {
   "cell_type": "markdown",
   "metadata": {},
   "source": [
    "## To get topic titles,we can pick 'p' tags with the class \"f3 lh-condensed mb-0 mt-1 Link--primary\"\n",
    "![](https://imgur.com/9SF0g1w.png)\n"
   ]
  },
  {
   "cell_type": "code",
   "execution_count": 21,
   "metadata": {},
   "outputs": [],
   "source": [
    "def get_topic_titles(doc):\n",
    "    #To get topic titles,we can pick 'p' tags with the class \"f3 lh-condensed mb-0 mt-1 Link--primary\"\n",
    "    selection_class='f3 lh-condensed mb-0 mt-1 Link--primary'\n",
    "    topic_title_tags=doc.find_all('p',{'class':selection_class})\n",
    "    topic_titles=[]\n",
    "    for tag in topic_title_tags[:10]:\n",
    "        topic_titles.append(tag.text)\n",
    "    return topic_titles\n",
    "\n",
    "def get_topic_desc(doc):\n",
    "    #To get description,we can pick 'p' tags with the class \"f5 color-fg-muted mb-0 mt-1\"\n",
    "    desc_selector='f5 color-fg-muted mb-0 mt-1'\n",
    "    topic_desc_tags=doc.find_all('p',{'class':desc_selector})\n",
    "    topic_desc=[]\n",
    "    for tag in topic_desc_tags[:10]:\n",
    "        topic_desc.append(tag.text.strip())\n",
    "    return topic_desc\n",
    "\n",
    "def get_topic_url(doc):\n",
    "    #To get url,we can pick 'a' tags with the class \"d-flex no-underline\"\n",
    "    link_selector='d-flex no-underline'\n",
    "    topic_link_tags=doc.find_all('a',{'class':link_selector})\n",
    "    topic_url=[]\n",
    "    base_url='https://github.com'\n",
    "    for tag in topic_link_tags[:10]:\n",
    "        topic_url.append(base_url+tag['href'])\n",
    "    return topic_url\n",
    "        \n",
    "def scrape_topics():\n",
    "    # get topics URL\n",
    "    topics_url='https://github.com/topics'\n",
    "    #response object has take the URL and has downloaded it.\n",
    "    response=requests.get(topics_url)\n",
    "    #beautifulsoup to parse info\n",
    "    doc=BeautifulSoup(response.text,'html.parser')\n",
    "    if response.status_code!=200:#check status code\n",
    "        raise Exception(\"failed to download page {}\".format(topics_url))\n",
    "    topic_dict={'titles':get_topic_titles(doc),'description':get_topic_desc(doc),'url':get_topic_url(doc)}\n",
    "    return pd.DataFrame(topic_dict)"
   ]
  },
  {
   "cell_type": "code",
   "execution_count": 22,
   "metadata": {},
   "outputs": [
    {
     "data": {
      "text/html": [
       "<div>\n",
       "<style scoped>\n",
       "    .dataframe tbody tr th:only-of-type {\n",
       "        vertical-align: middle;\n",
       "    }\n",
       "\n",
       "    .dataframe tbody tr th {\n",
       "        vertical-align: top;\n",
       "    }\n",
       "\n",
       "    .dataframe thead th {\n",
       "        text-align: right;\n",
       "    }\n",
       "</style>\n",
       "<table border=\"1\" class=\"dataframe\">\n",
       "  <thead>\n",
       "    <tr style=\"text-align: right;\">\n",
       "      <th></th>\n",
       "      <th>titles</th>\n",
       "      <th>description</th>\n",
       "      <th>url</th>\n",
       "    </tr>\n",
       "  </thead>\n",
       "  <tbody>\n",
       "    <tr>\n",
       "      <th>0</th>\n",
       "      <td>3D</td>\n",
       "      <td>3D modeling is the process of virtually develo...</td>\n",
       "      <td>https://github.com/topics/3d</td>\n",
       "    </tr>\n",
       "    <tr>\n",
       "      <th>1</th>\n",
       "      <td>Ajax</td>\n",
       "      <td>Ajax is a technique for creating interactive w...</td>\n",
       "      <td>https://github.com/topics/ajax</td>\n",
       "    </tr>\n",
       "    <tr>\n",
       "      <th>2</th>\n",
       "      <td>Algorithm</td>\n",
       "      <td>Algorithms are self-contained sequences that c...</td>\n",
       "      <td>https://github.com/topics/algorithm</td>\n",
       "    </tr>\n",
       "    <tr>\n",
       "      <th>3</th>\n",
       "      <td>Amp</td>\n",
       "      <td>Amp is a non-blocking concurrency framework fo...</td>\n",
       "      <td>https://github.com/topics/amphp</td>\n",
       "    </tr>\n",
       "    <tr>\n",
       "      <th>4</th>\n",
       "      <td>Android</td>\n",
       "      <td>Android is an operating system built by Google...</td>\n",
       "      <td>https://github.com/topics/android</td>\n",
       "    </tr>\n",
       "    <tr>\n",
       "      <th>5</th>\n",
       "      <td>Angular</td>\n",
       "      <td>Angular is an open source web application plat...</td>\n",
       "      <td>https://github.com/topics/angular</td>\n",
       "    </tr>\n",
       "    <tr>\n",
       "      <th>6</th>\n",
       "      <td>Ansible</td>\n",
       "      <td>Ansible is a simple and powerful automation en...</td>\n",
       "      <td>https://github.com/topics/ansible</td>\n",
       "    </tr>\n",
       "    <tr>\n",
       "      <th>7</th>\n",
       "      <td>API</td>\n",
       "      <td>An API (Application Programming Interface) is ...</td>\n",
       "      <td>https://github.com/topics/api</td>\n",
       "    </tr>\n",
       "    <tr>\n",
       "      <th>8</th>\n",
       "      <td>Arduino</td>\n",
       "      <td>Arduino is an open source hardware and softwar...</td>\n",
       "      <td>https://github.com/topics/arduino</td>\n",
       "    </tr>\n",
       "    <tr>\n",
       "      <th>9</th>\n",
       "      <td>ASP.NET</td>\n",
       "      <td>ASP.NET is a web framework for building modern...</td>\n",
       "      <td>https://github.com/topics/aspnet</td>\n",
       "    </tr>\n",
       "  </tbody>\n",
       "</table>\n",
       "</div>"
      ],
      "text/plain": [
       "      titles                                        description  \\\n",
       "0         3D  3D modeling is the process of virtually develo...   \n",
       "1       Ajax  Ajax is a technique for creating interactive w...   \n",
       "2  Algorithm  Algorithms are self-contained sequences that c...   \n",
       "3        Amp  Amp is a non-blocking concurrency framework fo...   \n",
       "4    Android  Android is an operating system built by Google...   \n",
       "5    Angular  Angular is an open source web application plat...   \n",
       "6    Ansible  Ansible is a simple and powerful automation en...   \n",
       "7        API  An API (Application Programming Interface) is ...   \n",
       "8    Arduino  Arduino is an open source hardware and softwar...   \n",
       "9    ASP.NET  ASP.NET is a web framework for building modern...   \n",
       "\n",
       "                                   url  \n",
       "0         https://github.com/topics/3d  \n",
       "1       https://github.com/topics/ajax  \n",
       "2  https://github.com/topics/algorithm  \n",
       "3      https://github.com/topics/amphp  \n",
       "4    https://github.com/topics/android  \n",
       "5    https://github.com/topics/angular  \n",
       "6    https://github.com/topics/ansible  \n",
       "7        https://github.com/topics/api  \n",
       "8    https://github.com/topics/arduino  \n",
       "9     https://github.com/topics/aspnet  "
      ]
     },
     "execution_count": 22,
     "metadata": {},
     "output_type": "execute_result"
    }
   ],
   "source": [
    "scrape_topics()"
   ]
  },
  {
   "cell_type": "code",
   "execution_count": 23,
   "metadata": {},
   "outputs": [],
   "source": [
    "def get_topic_page(topic_urls):\n",
    "    #download the page\n",
    "    response=requests.get(topic_urls)\n",
    "    #check if download was successful\n",
    "    if response.status_code!=200:\n",
    "        raise Exception(\"failed to load page {}\".format(topic_urls))\n",
    "    #parse using beautifulsoup\n",
    "    doc2=BeautifulSoup(response.text,'html.parser')\n",
    "    return doc2\n",
    "\n",
    "def parse_star_count(stars_str):\n",
    "    stars_str=stars_str.strip()\n",
    "    if stars_str[-1]=='k':\n",
    "        return int(float(stars_str[:-1])*1000)\n",
    "    \n",
    "def get_repo_info(h3_tag,stars_tags):\n",
    "    #returns all the required info about a repository\n",
    "    base_url='https://github.com'\n",
    "    a_tags=h3_tag.find_all('a')\n",
    "    username=a_tags[0].text.strip()\n",
    "    repo_name=a_tags[1].text.strip()\n",
    "    stars=parse_star_count(stars_tags.text.strip())\n",
    "    repo_url=base_url+a_tags[1]['href']\n",
    "    return username,repo_name,stars,repo_url\n",
    "\n",
    "def get_topic_repos(doc2):\n",
    "    #get the h3 tag containing username,reponame,repo URL\n",
    "    h3_selection_class='f3 color-fg-muted text-normal lh-condensed'\n",
    "    repo_tags=doc2.find_all('h3',{'class':h3_selection_class})\n",
    "    #get star tags\n",
    "    stars_selection='social-count js-social-count'\n",
    "    stars_tags=doc2.find_all('a',{'class':stars_selection})\n",
    "    #get repo_info\n",
    "    topic_repos_dict={'username':[],'repo_name':[],'stars':[],'repo_url':[]}\n",
    "    for i in range(len(repo_tags)):\n",
    "        repo_info=get_repo_info(repo_tags[i],stars_tags[i])\n",
    "        topic_repos_dict['username'].append(repo_info[0])\n",
    "        topic_repos_dict['repo_name'].append(repo_info[1])\n",
    "        topic_repos_dict['stars'].append(repo_info[2])\n",
    "        topic_repos_dict['repo_url'].append(repo_info[3])\n",
    "    return pd.DataFrame(topic_repos_dict)\n",
    "\n",
    "def scrape_topic(topic_url,topic_name):\n",
    "    topic_df=get_topic_repos(get_topic_page(topic_url))\n",
    "    fname=topic_name+'.csv'\n",
    "    if os.path.exists(fname):\n",
    "        print(\"the file name {} already exist so skipping...\".format(fname))\n",
    "    topic_df.to_csv(fname,index=None)\n",
    "  \n",
    " \n",
    "   "
   ]
  },
  {
   "cell_type": "code",
   "execution_count": 24,
   "metadata": {},
   "outputs": [],
   "source": [
    "def scrape_topic_repos():\n",
    "    print(\"scraping list of topics\")\n",
    "    topics_df=scrape_topics()\n",
    "    for index,row in topics_df.iterrows():\n",
    "        print(\"scraping top repositories for {}\".format(row['titles']))\n",
    "        scrape_topic(row['url'],row['titles'])"
   ]
  },
  {
   "cell_type": "code",
   "execution_count": 25,
   "metadata": {},
   "outputs": [
    {
     "name": "stdout",
     "output_type": "stream",
     "text": [
      "scraping list of topics\n",
      "scraping top repositories for 3D\n",
      "scraping top repositories for Ajax\n",
      "scraping top repositories for Algorithm\n",
      "scraping top repositories for Amp\n",
      "scraping top repositories for Android\n",
      "scraping top repositories for Angular\n",
      "scraping top repositories for Ansible\n",
      "scraping top repositories for API\n",
      "scraping top repositories for Arduino\n",
      "scraping top repositories for ASP.NET\n"
     ]
    }
   ],
   "source": [
    "scrape_topic_repos()"
   ]
  },
  {
   "cell_type": "markdown",
   "metadata": {},
   "source": [
    "# Output\n",
    "\n",
    "![](https://i.imgur.com/iqYqaQ1.png)"
   ]
  },
  {
   "cell_type": "code",
   "execution_count": null,
   "metadata": {},
   "outputs": [
    {
     "data": {
      "application/javascript": [
       "window.require && require([\"base/js/namespace\"],function(Jupyter){Jupyter.notebook.save_checkpoint()})"
      ],
      "text/plain": [
       "<IPython.core.display.Javascript object>"
      ]
     },
     "metadata": {},
     "output_type": "display_data"
    }
   ],
   "source": [
    "jovian.commit()"
   ]
  },
  {
   "cell_type": "code",
   "execution_count": null,
   "metadata": {},
   "outputs": [],
   "source": []
  },
  {
   "cell_type": "code",
   "execution_count": null,
   "metadata": {},
   "outputs": [],
   "source": []
  },
  {
   "cell_type": "code",
   "execution_count": null,
   "metadata": {},
   "outputs": [],
   "source": []
  },
  {
   "cell_type": "code",
   "execution_count": null,
   "metadata": {},
   "outputs": [],
   "source": []
  },
  {
   "cell_type": "code",
   "execution_count": null,
   "metadata": {},
   "outputs": [],
   "source": []
  }
 ],
 "metadata": {
  "language_info": {
   "codemirror_mode": {
    "name": "ipython",
    "version": 3
   },
   "file_extension": ".py",
   "mimetype": "text/x-python",
   "name": "python",
   "nbconvert_exporter": "python",
   "pygments_lexer": "ipython3",
   "version": "3.9.6"
  }
 },
 "nbformat": 4,
 "nbformat_minor": 2
}